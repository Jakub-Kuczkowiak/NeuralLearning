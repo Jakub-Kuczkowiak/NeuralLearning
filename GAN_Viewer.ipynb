{
 "cells": [
  {
   "cell_type": "code",
   "execution_count": 1,
   "metadata": {},
   "outputs": [
    {
     "name": "stderr",
     "output_type": "stream",
     "text": [
      "Using TensorFlow backend.\n"
     ]
    }
   ],
   "source": [
    "from matplotlib import pyplot as plt\n",
    "from scipy.optimize import fmin_l_bfgs_b\n",
    "import numpy as np\n",
    "from keras import backend as K"
   ]
  },
  {
   "cell_type": "code",
   "execution_count": 2,
   "metadata": {},
   "outputs": [
    {
     "name": "stderr",
     "output_type": "stream",
     "text": [
      "/home/konrad/anaconda3/lib/python3.6/site-packages/keras/engine/saving.py:327: UserWarning: Error in loading the saved optimizer state. As a result, your model is starting with a freshly initialized optimizer.\n",
      "  warnings.warn('Error in loading the saved optimizer '\n"
     ]
    }
   ],
   "source": [
    "from keras.models import load_model\n",
    "AM = load_model('face_gen.h5')"
   ]
  },
  {
   "cell_type": "code",
   "execution_count": 3,
   "metadata": {},
   "outputs": [],
   "source": [
    "Gen = AM.get_layer(\"sequential_1\")"
   ]
  },
  {
   "cell_type": "markdown",
   "metadata": {},
   "source": [
    "## Face 1"
   ]
  },
  {
   "cell_type": "code",
   "execution_count": 44,
   "metadata": {},
   "outputs": [
    {
     "data": {
      "text/plain": [
       "<matplotlib.image.AxesImage at 0x7f454a9707b8>"
      ]
     },
     "execution_count": 44,
     "metadata": {},
     "output_type": "execute_result"
    },
    {
     "data": {
      "image/png": "[encoded data removed]",
      "text/plain": [
       "<matplotlib.figure.Figure at 0x7f454ab43780>"
      ]
     },
     "metadata": {
      "needs_background": "light"
     },
     "output_type": "display_data"
    }
   ],
   "source": [
    "noise = K.random_uniform_variable((1,100), -1, 1)\n",
    "i = Gen.predict(noise, steps=1)\n",
    "im = (((i - i.min()) * 255) / (i.max() - i.min())).astype(np.uint8)\n",
    "plt.imshow(im[0])"
   ]
  },
  {
   "cell_type": "markdown",
   "metadata": {},
   "source": [
    "## Face 2"
   ]
  },
  {
   "cell_type": "code",
   "execution_count": 49,
   "metadata": {},
   "outputs": [
    {
     "data": {
      "text/plain": [
       "<matplotlib.image.AxesImage at 0x7f454a61f518>"
      ]
     },
     "execution_count": 49,
     "metadata": {},
     "output_type": "execute_result"
    },
    {
     "data": {
      "image/png": "[encoded data removed]",
      "text/plain": [
       "<matplotlib.figure.Figure at 0x7f454a6c5f28>"
      ]
     },
     "metadata": {
      "needs_background": "light"
     },
     "output_type": "display_data"
    }
   ],
   "source": [
    "noise2 = K.random_uniform_variable((1,100), -1, 1)\n",
    "i2 = Gen.predict(noise2, steps=1)\n",
    "im2 = (((i2 - i2.min()) * 255) / (i2.max() - i2.min())).astype(np.uint8)\n",
    "plt.imshow(im2[0])"
   ]
  },
  {
   "cell_type": "markdown",
   "metadata": {},
   "source": [
    "## Face 1 + Face 2"
   ]
  },
  {
   "cell_type": "code",
   "execution_count": 50,
   "metadata": {},
   "outputs": [
    {
     "data": {
      "text/plain": [
       "<matplotlib.image.AxesImage at 0x7f454a5b2668>"
      ]
     },
     "execution_count": 50,
     "metadata": {},
     "output_type": "execute_result"
    },
    {
     "data": {
      "image/png": "[encoded data removed]",
      "text/plain": [
       "<matplotlib.figure.Figure at 0x7f454a65fc18>"
      ]
     },
     "metadata": {
      "needs_background": "light"
     },
     "output_type": "display_data"
    }
   ],
   "source": [
    "noise3 = (noise + noise2) / 2\n",
    "i3 = Gen.predict(noise3, steps=1)\n",
    "im3 = (((i3 - i3.min()) * 255) / (i3.max() - i3.min())).astype(np.uint8)\n",
    "plt.imshow(im3[0])"
   ]
  },
  {
   "cell_type": "markdown",
   "metadata": {},
   "source": [
    "## GAN Reverse"
   ]
  },
  {
   "cell_type": "code",
   "execution_count": 18,
   "metadata": {},
   "outputs": [],
   "source": [
    "def gan_reverse(i, steps = 50):\n",
    "    z = K.random_uniform_variable((1,100), -1, 1)\n",
    "\n",
    "    x = K.placeholder()\n",
    "    loss = K.sum(K.square(i - Gen.outputs[0]))\n",
    "    grad = K.gradients(loss, Gen.inputs[0])[0]\n",
    "    update_fn = K.function(Gen.inputs, [grad])\n",
    "\n",
    "    for step in range(steps):\n",
    "        j = Gen.predict(z, steps=1)\n",
    "        for _ in range(5):\n",
    "            update_vec = update_fn([z, j])[0]\n",
    "            z -= update_vec * 0.015\n",
    "iterations\n",
    "        if step % 5 == 0:\n",
    "            print(\"Step:\", step)\n",
    "    return z"
   ]
  },
  {
   "cell_type": "code",
   "execution_count": 51,
   "metadata": {},
   "outputs": [
    {
     "name": "stdout",
     "output_type": "stream",
     "text": [
      "Step: 0\n",
      "Step: 5\n",
      "Step: 10\n",
      "Step: 15\n",
      "Step: 20\n",
      "Step: 25\n",
      "Step: 30\n",
      "Step: 35\n",
      "Step: 40\n",
      "Step: 45\n"
     ]
    },
    {
     "data": {
      "text/plain": [
       "<matplotlib.image.AxesImage at 0x7f4549e0f1d0>"
      ]
     },
     "execution_count": 51,
     "metadata": {},
     "output_type": "execute_result"
    },
    {
     "data": {
      "image/png": "[encoded data removed]",
      "text/plain": [
       "<matplotlib.figure.Figure at 0x7f454a5f56d8>"
      ]
     },
     "metadata": {
      "needs_background": "light"
     },
     "output_type": "display_data"
    }
   ],
   "source": [
    "z = gan_reverse(i3)\n",
    "j = Gen.predict(z, steps=1)\n",
    "j = (((j - j.min()) * 255) / (j.max() - j.min())).astype(np.uint8)\n",
    "plt.imshow(j[0])"
   ]
  },
  {
   "cell_type": "code",
   "execution_count": null,
   "metadata": {},
   "outputs": [],
   "source": []
  }
 ],
 "metadata": {
  "kernelspec": {
   "display_name": "Python 3",
   "language": "python",
   "name": "python3"
  },
  "language_info": {
   "codemirror_mode": {
    "name": "ipython",
    "version": 3
   },
   "file_extension": ".py",
   "mimetype": "text/x-python",
   "name": "python",
   "nbconvert_exporter": "python",
   "pygments_lexer": "ipython3",
   "version": "3.6.0"
  }
 },
 "nbformat": 4,
 "nbformat_minor": 2
}
