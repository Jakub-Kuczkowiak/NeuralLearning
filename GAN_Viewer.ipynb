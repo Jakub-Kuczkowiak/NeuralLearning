{
 "cells": [
  {
   "cell_type": "code",
   "execution_count": 51,
   "metadata": {},
   "outputs": [],
   "source": [
    "from matplotlib import pyplot as plt\n",
    "from scipy.optimize import fmin_l_bfgs_b\n",
    "from keras.layers import Reshape\n",
    "import numpy as np\n",
    "import helper\n",
    "from glob import glob\n",
    "import os\n",
    "from keras import backend as K\n",
    "import tensorflow as tf"
   ]
  },
  {
   "cell_type": "code",
   "execution_count": 52,
   "metadata": {},
   "outputs": [],
   "source": [
    "from keras.models import load_model\n",
    "AM = load_model('face_gen400_3.h5')"
   ]
  },
  {
   "cell_type": "code",
   "execution_count": 53,
   "metadata": {},
   "outputs": [],
   "source": [
    "Gen = AM.get_layer(\"sequential_6\")"
   ]
  },
  {
   "cell_type": "markdown",
   "metadata": {},
   "source": [
    "## Face 1"
   ]
  },
  {
   "cell_type": "code",
   "execution_count": 61,
   "metadata": {},
   "outputs": [
    {
     "data": {
      "text/plain": [
       "<matplotlib.image.AxesImage at 0x7f1473a02b70>"
      ]
     },
     "execution_count": 61,
     "metadata": {},
     "output_type": "execute_result"
    },
    {
     "data": {
      "image/png": "[encoded data removed]",
      "text/plain": [
       "<matplotlib.figure.Figure at 0x7f1473c59b70>"
      ]
     },
     "metadata": {
      "needs_background": "light"
     },
     "output_type": "display_data"
    }
   ],
   "source": [
    "noise = K.random_uniform_variable((1, 400), -1, 1)\n",
    "i = Gen.predict(noise, steps=1)\n",
    "im = (((i - i.min()) * 255) / (i.max() - i.min())).astype(np.uint8)\n",
    "plt.imshow(im[0])"
   ]
  },
  {
   "cell_type": "markdown",
   "metadata": {},
   "source": [
    "## Face 2"
   ]
  },
  {
   "cell_type": "code",
   "execution_count": 74,
   "metadata": {},
   "outputs": [
    {
     "data": {
      "text/plain": [
       "<matplotlib.image.AxesImage at 0x7f1472953a58>"
      ]
     },
     "execution_count": 74,
     "metadata": {},
     "output_type": "execute_result"
    },
    {
     "data": {
      "image/png": "[encoded data removed]",
      "text/plain": [
       "<matplotlib.figure.Figure at 0x7f1472c38358>"
      ]
     },
     "metadata": {
      "needs_background": "light"
     },
     "output_type": "display_data"
    }
   ],
   "source": [
    "noise2 = K.random_uniform_variable((1, 400), -1, 1)\n",
    "i2 = Gen.predict(noise2, steps=1)\n",
    "im2 = (((i2 - i2.min()) * 255) / (i2.max() - i2.min())).astype(np.uint8)\n",
    "plt.imshow(im2[0])"
   ]
  },
  {
   "cell_type": "markdown",
   "metadata": {},
   "source": [
    "## Face 1 + Face 2"
   ]
  },
  {
   "cell_type": "code",
   "execution_count": 75,
   "metadata": {},
   "outputs": [
    {
     "data": {
      "text/plain": [
       "<matplotlib.image.AxesImage at 0x7f14728e8320>"
      ]
     },
     "execution_count": 75,
     "metadata": {},
     "output_type": "execute_result"
    },
    {
     "data": {
      "image/png": "[encoded data removed]",
      "text/plain": [
       "<matplotlib.figure.Figure at 0x7f1473e4e390>"
      ]
     },
     "metadata": {
      "needs_background": "light"
     },
     "output_type": "display_data"
    }
   ],
   "source": [
    "noise3 = (noise + noise2) / 2\n",
    "i3 = Gen.predict(noise3, steps=1)\n",
    "im3 = (((i3 - i3.min()) * 255) / (i3.max() - i3.min())).astype(np.uint8)\n",
    "plt.imshow(im3[0])"
   ]
  },
  {
   "cell_type": "markdown",
   "metadata": {},
   "source": [
    "## GAN Reverse"
   ]
  },
  {
   "cell_type": "code",
   "execution_count": 63,
   "metadata": {},
   "outputs": [],
   "source": [
    "def gan_reverse(i, steps = 50):\n",
    "    #z = K.random_uniform_variable((1, 400), -1, 1)\n",
    "    z = np.random.uniform(-1.0, 1.0, size = [1, 400])\n",
    "    x = K.placeholder()\n",
    "    loss = K.sum(K.square(i - Gen.outputs[0]))\n",
    "    grad = K.gradients(loss, Gen.inputs[0])[0]\n",
    "    update_fn = K.function(Gen.inputs, [loss, grad])\n",
    "\n",
    "    def eval_loss_and_grad(z, j):\n",
    "        l, g = update_fn([z.reshape(1, 400), j])\n",
    "        return l.astype('float64'), g.astype('float64')\n",
    "\n",
    "    for step in range(steps):\n",
    "        j = Gen.predict(z, steps=1)\n",
    "        f = lambda x: eval_loss_and_grad(x, j)\n",
    "        #update_vec = update_fn([z, j])[0]\n",
    "        #z -= update_vec * 0.005\n",
    "        z, min_val, _ = fmin_l_bfgs_b(f, z, maxfun=20)\n",
    "        z = z.reshape(1, 400)\n",
    "        \n",
    "        if step % 5 == 0:\n",
    "            print(\"Step:\", step)\n",
    "    return z"
   ]
  },
  {
   "cell_type": "code",
   "execution_count": 76,
   "metadata": {},
   "outputs": [
    {
     "name": "stdout",
     "output_type": "stream",
     "text": [
      "Step: 0\n",
      "Step: 5\n",
      "Step: 10\n",
      "Step: 15\n",
      "Step: 20\n",
      "Step: 25\n",
      "Step: 30\n",
      "Step: 35\n",
      "Step: 40\n",
      "Step: 45\n"
     ]
    },
    {
     "data": {
      "text/plain": [
       "<matplotlib.image.AxesImage at 0x7f147252f860>"
      ]
     },
     "execution_count": 76,
     "metadata": {},
     "output_type": "execute_result"
    },
    {
     "data": {
      "image/png": "[encoded data removed]",
      "text/plain": [
       "<matplotlib.figure.Figure at 0x7f14729290f0>"
      ]
     },
     "metadata": {
      "needs_background": "light"
     },
     "output_type": "display_data"
    }
   ],
   "source": [
    "z = gan_reverse(i3)\n",
    "j = Gen.predict(z, steps=1)\n",
    "j = (((j - j.min()) * 255) / (j.max() - j.min())).astype(np.uint8)\n",
    "plt.imshow(j[0])"
   ]
  },
  {
   "cell_type": "code",
   "execution_count": 93,
   "metadata": {},
   "outputs": [
    {
     "data": {
      "text/plain": [
       "\"\\nim_dir = glob(os.path.join('.', 'mabi.jpeg'))[0]\\nimage1 = helper.get_image(im_dir, 'RGB', helper.preprocessing, width=28, height=28, face_size=220, delta_i=-40, delta_j=10)\\nplt.imshow(image1)\\n\""
      ]
     },
     "execution_count": 93,
     "metadata": {},
     "output_type": "execute_result"
    },
    {
     "data": {
      "image/png": "[encoded data removed]",
      "text/plain": [
       "<matplotlib.figure.Figure at 0x7f14715c1b38>"
      ]
     },
     "metadata": {
      "needs_background": "light"
     },
     "output_type": "display_data"
    }
   ],
   "source": [
    "\n",
    "im_dir = glob(os.path.join('.', 'jch.jpeg'))[0]\n",
    "image1 = helper.get_image(im_dir, 'RGB', helper.preprocessing, width=28, height=28, face_size=80, delta_i=-10, delta_j=0)\n",
    "plt.imshow(image1)\n",
    "'''\n",
    "im_dir = glob(os.path.join('.', 'mabi.jpeg'))[0]\n",
    "image1 = helper.get_image(im_dir, 'RGB', helper.preprocessing, width=28, height=28, face_size=220, delta_i=-40, delta_j=10)\n",
    "plt.imshow(image1)\n",
    "'''"
   ]
  },
  {
   "cell_type": "code",
   "execution_count": 94,
   "metadata": {},
   "outputs": [
    {
     "name": "stdout",
     "output_type": "stream",
     "text": [
      "Step: 0\n",
      "Step: 5\n",
      "Step: 10\n",
      "Step: 15\n",
      "Step: 20\n",
      "Step: 25\n",
      "Step: 30\n",
      "Step: 35\n",
      "Step: 40\n",
      "Step: 45\n"
     ]
    },
    {
     "data": {
      "text/plain": [
       "<matplotlib.image.AxesImage at 0x7f1471159ef0>"
      ]
     },
     "execution_count": 94,
     "metadata": {},
     "output_type": "execute_result"
    },
    {
     "data": {
      "image/png": "[encoded data removed]",
      "text/plain": [
       "<matplotlib.figure.Figure at 0x7f1471552668>"
      ]
     },
     "metadata": {
      "needs_background": "light"
     },
     "output_type": "display_data"
    }
   ],
   "source": [
    "z1 = gan_reverse(image1 / 255 - 0.5, steps = 50)  \n",
    "j1 = Gen.predict(z1, steps=1)\n",
    "plt.imshow(helper.image_for_plot(j1[0]))"
   ]
  },
  {
   "cell_type": "code",
   "execution_count": 49,
   "metadata": {},
   "outputs": [
    {
     "data": {
      "text/plain": [
       "<matplotlib.image.AxesImage at 0x7f147a54c780>"
      ]
     },
     "execution_count": 49,
     "metadata": {},
     "output_type": "execute_result"
    },
    {
     "data": {
      "image/png": "[encoded data removed]",
      "text/plain": [
       "<matplotlib.figure.Figure at 0x7f147a5dc588>"
      ]
     },
     "metadata": {
      "needs_background": "light"
     },
     "output_type": "display_data"
    }
   ],
   "source": [
    "'''\n",
    "im_dir = glob(os.path.join('.', 'cahir.jpg'))[0]\n",
    "image2 = helper.get_image(im_dir, 'RGB', helper.preprocessing, width=28, height=28, \\\n",
    "                         face_size=220, delta_i=0, delta_j=-110)\n",
    "plt.imshow(image2)\n",
    "'''\n",
    "im_dir = glob(os.path.join('.', 'rno.jpeg'))[0]\n",
    "image2 = helper.get_image(im_dir, 'RGB', helper.preprocessing, width=28, height=28, \\\n",
    "                         face_size=220, delta_i=-50, delta_j=0)\n",
    "plt.imshow(image2)\n"
   ]
  },
  {
   "cell_type": "code",
   "execution_count": 67,
   "metadata": {},
   "outputs": [
    {
     "name": "stdout",
     "output_type": "stream",
     "text": [
      "Step: 0\n",
      "Step: 5\n",
      "Step: 10\n",
      "Step: 15\n",
      "Step: 20\n",
      "Step: 25\n",
      "Step: 30\n",
      "Step: 35\n",
      "Step: 40\n",
      "Step: 45\n"
     ]
    },
    {
     "data": {
      "text/plain": [
       "<matplotlib.image.AxesImage at 0x7f1472d90ac8>"
      ]
     },
     "execution_count": 67,
     "metadata": {},
     "output_type": "execute_result"
    },
    {
     "data": {
      "image/png": "[encoded data removed]",
      "text/plain": [
       "<matplotlib.figure.Figure at 0x7f1473147940>"
      ]
     },
     "metadata": {
      "needs_background": "light"
     },
     "output_type": "display_data"
    }
   ],
   "source": [
    "z2 = gan_reverse(image2 / 255 - 0.5, steps = 50)\n",
    "j2 = Gen.predict(z2, steps=1)\n",
    "plt.imshow(helper.image_for_plot(j2[0]))"
   ]
  },
  {
   "cell_type": "code",
   "execution_count": 95,
   "metadata": {},
   "outputs": [
    {
     "data": {
      "text/plain": [
       "<matplotlib.image.AxesImage at 0x7f14710f0c18>"
      ]
     },
     "execution_count": 95,
     "metadata": {},
     "output_type": "execute_result"
    },
    {
     "data": {
      "image/png": "[encoded data removed]",
      "text/plain": [
       "<matplotlib.figure.Figure at 0x7f1471ee9588>"
      ]
     },
     "metadata": {
      "needs_background": "light"
     },
     "output_type": "display_data"
    }
   ],
   "source": [
    "plt.imshow(helper.image_for_plot(j1[0]))"
   ]
  },
  {
   "cell_type": "code",
   "execution_count": 96,
   "metadata": {},
   "outputs": [
    {
     "data": {
      "text/plain": [
       "<matplotlib.image.AxesImage at 0x7f147107f908>"
      ]
     },
     "execution_count": 96,
     "metadata": {},
     "output_type": "execute_result"
    },
    {
     "data": {
      "image/png": "[encoded data removed]",
      "text/plain": [
       "<matplotlib.figure.Figure at 0x7f14711306a0>"
      ]
     },
     "metadata": {
      "needs_background": "light"
     },
     "output_type": "display_data"
    }
   ],
   "source": [
    "j3 = Gen.predict((z1 + z2) / 2, steps=1)\n",
    "plt.imshow(helper.image_for_plot(j3[0]))"
   ]
  },
  {
   "cell_type": "code",
   "execution_count": null,
   "metadata": {},
   "outputs": [],
   "source": []
  }
 ],
 "metadata": {
  "kernelspec": {
   "display_name": "Python 3",
   "language": "python",
   "name": "python3"
  },
  "language_info": {
   "codemirror_mode": {
    "name": "ipython",
    "version": 3
   },
   "file_extension": ".py",
   "mimetype": "text/x-python",
   "name": "python",
   "nbconvert_exporter": "python",
   "pygments_lexer": "ipython3",
   "version": "3.6.0"
  }
 },
 "nbformat": 4,
 "nbformat_minor": 2
}
