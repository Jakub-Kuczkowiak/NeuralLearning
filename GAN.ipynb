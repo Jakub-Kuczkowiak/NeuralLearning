{
 "cells": [
  {
   "cell_type": "code",
   "execution_count": 3,
   "metadata": {},
   "outputs": [
    {
     "data": {
      "text/plain": [
       "['/job:localhost/replica:0/task:0/device:GPU:0']"
      ]
     },
     "execution_count": 3,
     "metadata": {},
     "output_type": "execute_result"
    }
   ],
   "source": [
    "import helper\n",
    "from glob import glob\n",
    "import os\n",
    "\n",
    "from matplotlib import pyplot as plt\n",
    "\n",
    "from keras.models import Sequential\n",
    "\n",
    "from keras.layers import Dense, Dropout, Activation, Flatten, Reshape\n",
    "from keras.layers import Conv2D, UpSampling2D, Conv2DTranspose\n",
    "from keras.layers import LeakyReLU, Dropout, BatchNormalization\n",
    "from keras.optimizers import RMSprop, Adam\n",
    "from keras.utils import np_utils\n",
    "import numpy as np\n",
    "\n",
    "from keras import backend as K\n",
    "K.tensorflow_backend._get_available_gpus()"
   ]
  },
  {
   "cell_type": "code",
   "execution_count": 10,
   "metadata": {},
   "outputs": [],
   "source": [
    "class GAN(object):\n",
    "    def __init__(self, img_width, img_height, img_channels, DM_optimizer = RMSprop(lr = 0.0002, decay = 6e-8),\\\n",
    "                 AM_optimizer = RMSprop(lr = 0.0001, decay = 3e-8), input_noice_dim = 100, print_summary = False):\n",
    "        \n",
    "        self.input_shape = (img_width, img_height, img_channels)\n",
    "        self.input_noice_dim = input_noice_dim\n",
    "        \n",
    "        if print_summary:\n",
    "            print(\"Generator:\")\n",
    "        self.Gen = self.__generator(print_summary)\n",
    "        \n",
    "        if print_summary:\n",
    "            print(\"\\nDiscriminator:\")\n",
    "        self.Dis = self.__discriminator(print_summary)\n",
    "        \n",
    "        if print_summary:\n",
    "            print(\"\\nDM:\")\n",
    "        self.DM = self.__dm(DM_optimizer, print_summary)\n",
    "        \n",
    "        if print_summary:\n",
    "            print(\"\\nAM:\")\n",
    "        self.AM = self.__am(AM_optimizer, print_summary)\n",
    "        \n",
    "    def __generator(self, print_summary = False):\n",
    "        g = Sequential()\n",
    "        dropout = 0.5\n",
    "        depth = 256\n",
    "        dim = int(self.input_shape[0] / 4)\n",
    "        \n",
    "        g.add(Dense(dim * dim * depth, input_dim = self.input_noice_dim))\n",
    "        g.add(BatchNormalization(momentum = 0.99))\n",
    "        g.add(LeakyReLU(alpha = 0.2))\n",
    "        g.add(Reshape((dim, dim, depth)))\n",
    "        g.add(Dropout(dropout))\n",
    "        \n",
    "        g.add(UpSampling2D())\n",
    "        g.add(Conv2DTranspose(int(depth / 2), 5, padding = 'same'))\n",
    "        g.add(BatchNormalization(momentum = 0.99))\n",
    "        g.add(LeakyReLU(alpha = 0.2))\n",
    "        \n",
    "        g.add(UpSampling2D())\n",
    "        g.add(Conv2DTranspose(int(depth / 4), 5, padding = 'same'))\n",
    "        g.add(BatchNormalization(momentum = 0.99))\n",
    "        g.add(LeakyReLU(alpha = 0.2))\n",
    "        \n",
    "        g.add(Conv2DTranspose(int(depth / 8), 5, padding = 'same'))\n",
    "        g.add(BatchNormalization(momentum = 0.99))\n",
    "        g.add(LeakyReLU(alpha = 0.2))\n",
    "        \n",
    "        g.add(Conv2DTranspose(self.input_shape[2], 5, padding = 'same'))\n",
    "        g.add(Activation('tanh')) #tu był sigmoid\n",
    "        \n",
    "        if print_summary:\n",
    "            g.summary()\n",
    "\n",
    "        return g\n",
    "    \n",
    "    def __discriminator(self, print_summary = False):\n",
    "        d = Sequential()\n",
    "        dropout = 0.5\n",
    "        depth = 64\n",
    "        \n",
    "        d.add(Conv2D(depth * 1, 5, strides = 2, input_shape = self.input_shape, padding = 'same'))\n",
    "        d.add(LeakyReLU(alpha = 0.2))\n",
    "        d.add(Dropout(dropout))\n",
    "        \n",
    "        d.add(Conv2D(depth * 2, 5, strides = 2, padding = 'same'))\n",
    "        d.add(LeakyReLU(alpha = 0.2))\n",
    "        d.add(Dropout(dropout))\n",
    "        \n",
    "        d.add(Conv2D(depth * 4, 5, strides = 2, padding = 'same'))\n",
    "        d.add(LeakyReLU(alpha = 0.2))\n",
    "        d.add(Dropout(dropout))\n",
    "        \n",
    "        d.add(Conv2D(depth * 8, 5, strides = 1, padding = 'same'))\n",
    "        d.add(LeakyReLU(alpha = 0.2))\n",
    "        d.add(Dropout(dropout))\n",
    "        \n",
    "        d.add(Flatten())\n",
    "        d.add(Dense(1))\n",
    "        d.add(Activation('sigmoid'))\n",
    "        \n",
    "        if print_summary:\n",
    "            d.summary()\n",
    "            \n",
    "        return d\n",
    "    \n",
    "    def __dm(self, optimizer, print_summary = False):\n",
    "        self.Dis.trainable = True\n",
    "        dm = Sequential()\n",
    "        dm.add(self.Dis)\n",
    "        \n",
    "        if print_summary:\n",
    "            dm.summary()\n",
    "        \n",
    "        dm.compile(loss = 'binary_crossentropy', optimizer = optimizer, metrics = ['accuracy'])\n",
    "        \n",
    "        return dm\n",
    "    \n",
    "    def __am(self, optimizer, print_summary = False):\n",
    "        #Freezing Discriminator weights during the generator adversarial training\n",
    "        self.Dis.trainable = False\n",
    "        am = Sequential()\n",
    "        am.add(self.Gen)\n",
    "        am.add(self.Dis)\n",
    "        \n",
    "        if print_summary:\n",
    "            am.summary()\n",
    "        \n",
    "        am.compile(loss = 'binary_crossentropy', optimizer = optimizer, metrics = ['accuracy'])\n",
    "        \n",
    "        return am\n",
    "    \n",
    "    def train(self, steps, batch_size, dataset, info_rate = 10):\n",
    "        for i in range(steps):\n",
    "            r = dataset.get_random_batch(batch_size)\n",
    "            noise = np.random.uniform(-1.0, 1.0, size = [batch_size, self.input_noice_dim])\n",
    "            f = self.Gen.predict(noise)\n",
    "            x = np.concatenate((r, f))\n",
    "            y = np.ones([2 * batch_size, 1])\n",
    "            y[batch_size:, :] = 0\n",
    "            dm_loss = self.DM.train_on_batch(x, y)\n",
    "            \n",
    "            y = np.ones([2 * batch_size, 1])\n",
    "            noise = np.random.uniform(-1.0, 1.0, size=[2 * batch_size, self.input_noice_dim])\n",
    "            am_loss = self.AM.train_on_batch(noise, y)\n",
    "            \n",
    "            if i % info_rate == 0:\n",
    "                print(\"Step:\", i, \"DM loss:\", dm_loss, \"AM loss:\", am_loss)"
   ]
  },
  {
   "cell_type": "code",
   "execution_count": 5,
   "metadata": {},
   "outputs": [
    {
     "name": "stdout",
     "output_type": "stream",
     "text": [
      "(202599, 28, 28, 3)\n"
     ]
    }
   ],
   "source": [
    "celeba_dirs = glob(os.path.join('.', 'img_align_celeba', '*.jpg'))\n",
    "celeba_dataset = helper.ImagesDataset(celeba_dirs, 'RGB', helper.celeba_preprocessing, width=28, height=28)\n",
    "print(celeba_dataset.shape)"
   ]
  },
  {
   "cell_type": "code",
   "execution_count": 13,
   "metadata": {},
   "outputs": [
    {
     "name": "stdout",
     "output_type": "stream",
     "text": [
      "Generator:\n",
      "_________________________________________________________________\n",
      "Layer (type)                 Output Shape              Param #   \n",
      "=================================================================\n",
      "dense_7 (Dense)              (None, 12544)             2521344   \n",
      "_________________________________________________________________\n",
      "batch_normalization_13 (Batc (None, 12544)             50176     \n",
      "_________________________________________________________________\n",
      "leaky_re_lu_25 (LeakyReLU)   (None, 12544)             0         \n",
      "_________________________________________________________________\n",
      "reshape_4 (Reshape)          (None, 7, 7, 256)         0         \n",
      "_________________________________________________________________\n",
      "dropout_16 (Dropout)         (None, 7, 7, 256)         0         \n",
      "_________________________________________________________________\n",
      "up_sampling2d_7 (UpSampling2 (None, 14, 14, 256)       0         \n",
      "_________________________________________________________________\n",
      "conv2d_transpose_13 (Conv2DT (None, 14, 14, 128)       819328    \n",
      "_________________________________________________________________\n",
      "batch_normalization_14 (Batc (None, 14, 14, 128)       512       \n",
      "_________________________________________________________________\n",
      "leaky_re_lu_26 (LeakyReLU)   (None, 14, 14, 128)       0         \n",
      "_________________________________________________________________\n",
      "up_sampling2d_8 (UpSampling2 (None, 28, 28, 128)       0         \n",
      "_________________________________________________________________\n",
      "conv2d_transpose_14 (Conv2DT (None, 28, 28, 64)        204864    \n",
      "_________________________________________________________________\n",
      "batch_normalization_15 (Batc (None, 28, 28, 64)        256       \n",
      "_________________________________________________________________\n",
      "leaky_re_lu_27 (LeakyReLU)   (None, 28, 28, 64)        0         \n",
      "_________________________________________________________________\n",
      "conv2d_transpose_15 (Conv2DT (None, 28, 28, 32)        51232     \n",
      "_________________________________________________________________\n",
      "batch_normalization_16 (Batc (None, 28, 28, 32)        128       \n",
      "_________________________________________________________________\n",
      "leaky_re_lu_28 (LeakyReLU)   (None, 28, 28, 32)        0         \n",
      "_________________________________________________________________\n",
      "conv2d_transpose_16 (Conv2DT (None, 28, 28, 3)         2403      \n",
      "_________________________________________________________________\n",
      "activation_7 (Activation)    (None, 28, 28, 3)         0         \n",
      "=================================================================\n",
      "Total params: 3,650,243\n",
      "Trainable params: 3,624,707\n",
      "Non-trainable params: 25,536\n",
      "_________________________________________________________________\n",
      "\n",
      "Discriminator:\n",
      "_________________________________________________________________\n",
      "Layer (type)                 Output Shape              Param #   \n",
      "=================================================================\n",
      "conv2d_13 (Conv2D)           (None, 14, 14, 64)        4864      \n",
      "_________________________________________________________________\n",
      "leaky_re_lu_29 (LeakyReLU)   (None, 14, 14, 64)        0         \n",
      "_________________________________________________________________\n",
      "dropout_17 (Dropout)         (None, 14, 14, 64)        0         \n",
      "_________________________________________________________________\n",
      "conv2d_14 (Conv2D)           (None, 7, 7, 128)         204928    \n",
      "_________________________________________________________________\n",
      "leaky_re_lu_30 (LeakyReLU)   (None, 7, 7, 128)         0         \n",
      "_________________________________________________________________\n",
      "dropout_18 (Dropout)         (None, 7, 7, 128)         0         \n",
      "_________________________________________________________________\n",
      "conv2d_15 (Conv2D)           (None, 4, 4, 256)         819456    \n",
      "_________________________________________________________________\n",
      "leaky_re_lu_31 (LeakyReLU)   (None, 4, 4, 256)         0         \n",
      "_________________________________________________________________\n",
      "dropout_19 (Dropout)         (None, 4, 4, 256)         0         \n",
      "_________________________________________________________________\n",
      "conv2d_16 (Conv2D)           (None, 4, 4, 512)         3277312   \n",
      "_________________________________________________________________\n",
      "leaky_re_lu_32 (LeakyReLU)   (None, 4, 4, 512)         0         \n",
      "_________________________________________________________________\n",
      "dropout_20 (Dropout)         (None, 4, 4, 512)         0         \n",
      "_________________________________________________________________\n",
      "flatten_4 (Flatten)          (None, 8192)              0         \n",
      "_________________________________________________________________\n",
      "dense_8 (Dense)              (None, 1)                 8193      \n",
      "_________________________________________________________________\n",
      "activation_8 (Activation)    (None, 1)                 0         \n",
      "=================================================================\n",
      "Total params: 4,314,753\n",
      "Trainable params: 4,314,753\n",
      "Non-trainable params: 0\n",
      "_________________________________________________________________\n",
      "\n",
      "DM:\n",
      "_________________________________________________________________\n",
      "Layer (type)                 Output Shape              Param #   \n",
      "=================================================================\n",
      "sequential_14 (Sequential)   (None, 1)                 4314753   \n",
      "=================================================================\n",
      "Total params: 4,314,753\n",
      "Trainable params: 4,314,753\n",
      "Non-trainable params: 0\n",
      "_________________________________________________________________\n",
      "\n",
      "AM:\n",
      "_________________________________________________________________\n",
      "Layer (type)                 Output Shape              Param #   \n",
      "=================================================================\n",
      "sequential_13 (Sequential)   (None, 28, 28, 3)         3650243   \n",
      "_________________________________________________________________\n",
      "sequential_14 (Sequential)   (None, 1)                 4314753   \n",
      "=================================================================\n",
      "Total params: 7,964,996\n",
      "Trainable params: 3,624,707\n",
      "Non-trainable params: 4,340,289\n",
      "_________________________________________________________________\n"
     ]
    }
   ],
   "source": [
    "learning_rate = 0.00025\n",
    "beta1 = 0.45\n",
    "\n",
    "face_cnn = GAN(28, 28, 3, DM_optimizer = Adam(lr = learning_rate, beta_1 = beta1),\\\n",
    "               AM_optimizer = Adam(lr = learning_rate, beta_1 = beta1), input_noice_dim = 200, print_summary = True)"
   ]
  },
  {
   "cell_type": "code",
   "execution_count": null,
   "metadata": {},
   "outputs": [
    {
     "name": "stdout",
     "output_type": "stream",
     "text": [
      "Step: 0 DM loss: [0.69372725, 0.5] AM loss: [0.73715097, 0.359375]\n",
      "Step: 1000 DM loss: [0.7341397, 0.4375] AM loss: [0.7845305, 0.328125]\n",
      "Step: 2000 DM loss: [0.662916, 0.578125] AM loss: [0.7253272, 0.40625]\n",
      "Step: 3000 DM loss: [0.69769526, 0.515625] AM loss: [0.79841024, 0.28125]\n"
     ]
    }
   ],
   "source": [
    "face_cnn.train(30000, 32, celeba_dataset, 1000)"
   ]
  },
  {
   "cell_type": "code",
   "execution_count": 19,
   "metadata": {},
   "outputs": [
    {
     "name": "stdout",
     "output_type": "stream",
     "text": [
      "[[0.51251596]]\n"
     ]
    },
    {
     "data": {
      "text/plain": [
       "<matplotlib.image.AxesImage at 0x18f0dcadac8>"
      ]
     },
     "execution_count": 19,
     "metadata": {},
     "output_type": "execute_result"
    },
    {
     "data": {
      "image/png": "[encoded data removed]",
      "text/plain": [
       "<Figure size 432x288 with 1 Axes>"
      ]
     },
     "metadata": {
      "needs_background": "light"
     },
     "output_type": "display_data"
    }
   ],
   "source": [
    "noise = np.random.uniform(-1.0, 1.0, size = [1, face_cnn.input_noice_dim])\n",
    "i = face_cnn.Gen.predict(noise)\n",
    "print(face_cnn.Dis.predict(i))\n",
    "#i = (((i - i.min()) * 255) / (i.max() - i.min())).astype(np.uint8)\n",
    "plt.imshow(helper.image_for_plot(i)[0])"
   ]
  },
  {
   "cell_type": "code",
   "execution_count": 18,
   "metadata": {},
   "outputs": [],
   "source": [
    "face_cnn.AM.save('face_gen200.h5')"
   ]
  },
  {
   "cell_type": "code",
   "execution_count": null,
   "metadata": {},
   "outputs": [],
   "source": [
    "import tensorflow as tf"
   ]
  },
  {
   "cell_type": "code",
   "execution_count": null,
   "metadata": {},
   "outputs": [],
   "source": [
    "image_upsampled = tf.keras.backend.resize_images(image_scaled.reshape([1, 28, 28, 3]), 4, 4, \"channels_last\")\n",
    "print(image_upsampled.shape)\n",
    "print(image_upsampled)\n",
    "plt.imshow(tf.to_float(image_upsampled[0]))"
   ]
  },
  {
   "cell_type": "code",
   "execution_count": null,
   "metadata": {},
   "outputs": [],
   "source": [
    "\n",
    "us = Upsampler(4)\n",
    "\n",
    "image_upsampled = us.upsample(image_scaled.reshape([1, 28, 28, 3]))\n",
    "print(image_upsampled.shape)\n",
    "plt.imshow(image_upsampled[0])"
   ]
  }
 ],
 "metadata": {
  "kernelspec": {
   "display_name": "Python 3",
   "language": "python",
   "name": "python3"
  },
  "language_info": {
   "codemirror_mode": {
    "name": "ipython",
    "version": 3
   },
   "file_extension": ".py",
   "mimetype": "text/x-python",
   "name": "python",
   "nbconvert_exporter": "python",
   "pygments_lexer": "ipython3",
   "version": "3.6.8"
  }
 },
 "nbformat": 4,
 "nbformat_minor": 2
}
